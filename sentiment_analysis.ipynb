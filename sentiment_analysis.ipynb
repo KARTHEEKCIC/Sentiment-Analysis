{
 "cells": [
  {
   "cell_type": "markdown",
   "metadata": {
    "collapsed": true
   },
   "source": [
    "# Sentiment Analysis 1.0"
   ]
  },
  {
   "cell_type": "code",
   "execution_count": 41,
   "metadata": {
    "collapsed": true
   },
   "outputs": [],
   "source": [
    "# Importing the libraries\n",
    "from nltk.tokenize import word_tokenize # for tokenizing into sentences and words\n",
    "from sklearn.model_selection import cross_val_score # for cross validating the data\n",
    "from sklearn.model_selection import train_test_split # for splitting data into training and testing set\n",
    "from sklearn.feature_extraction.text import TfidfVectorizer # for extracting words as features using TF-IDF\n",
    "from sklearn.feature_extraction.text import CountVectorizer\n",
    "from sklearn.naive_bayes import MultinomialNB # for classifying the data\n",
    "from sklearn.linear_model import LogisticRegression # for classifying the data\n",
    "from sklearn.neighbors import KNeighborsClassifier # for classifying the data\n",
    "from sklearn import metrics # for calculating metrics like accuracy\n",
    "from sklearn.tree import DecisionTreeClassifier\n",
    "from sklearn.svm import SVC\n",
    "import matplotlib.pyplot as plt # for plotting the graphs\n",
    "# Importing the Keras libraries and packages\n",
    "import keras\n",
    "from keras.models import Sequential # for initializing a Neural Network\n",
    "from keras.layers import Dense # for adding hidden layers to the \n",
    "import numpy as np\n",
    "from sklearn.model_selection import StratifiedKFold # for stratified k fold cross validation"
   ]
  },
  {
   "cell_type": "markdown",
   "metadata": {},
   "source": [
    "# Reading the data set"
   ]
  },
  {
   "cell_type": "code",
   "execution_count": 42,
   "metadata": {
    "collapsed": true
   },
   "outputs": [],
   "source": [
    "# Reading the training dataset\n",
    "with open('training.txt') as train_txt:\n",
    "    raw_train_data = train_txt.read()\n",
    "# Reading the testing dataset\n",
    "with open('testdata.txt') as test_txt:\n",
    "    raw_test_data = test_txt.read()\n",
    "    "
   ]
  },
  {
   "cell_type": "markdown",
   "metadata": {},
   "source": [
    "# Data Preprocessing"
   ]
  },
  {
   "cell_type": "code",
   "execution_count": 43,
   "metadata": {},
   "outputs": [
    {
     "name": "stdout",
     "output_type": "stream",
     "text": [
      "7086\n",
      "7086\n",
      "33053\n"
     ]
    }
   ],
   "source": [
    "train_data_X = []\n",
    "train_data_Y = []\n",
    "test_data_X = []\n",
    "# Splitting the training data data\n",
    "for line in raw_train_data.split('\\n'):\n",
    "    if line.split('\\t') != [\"\"]:\n",
    "        train_data_X.append(line.split('\\t')[1])\n",
    "        train_data_Y.append(int(line.split('\\t')[0]))\n",
    "\n",
    "print(len(train_data_X))\n",
    "print(len(train_data_Y))\n",
    "# Splitting the testing data\n",
    "for line in raw_test_data.split('\\n'):\n",
    "    test_data_X.append(line)\n",
    "print(len(test_data_X))"
   ]
  },
  {
   "cell_type": "markdown",
   "metadata": {},
   "source": [
    "# Choosing the Model"
   ]
  },
  {
   "cell_type": "markdown",
   "metadata": {},
   "source": [
    "Now we would test the performance of following models using K Fold cross validation - \n",
    "    1. Multinomial Naive Bayes\n",
    "    2. K Nearest Neighbours\n",
    "    3. Logistic Regression\n",
    "    4. Support Vector Machine\n",
    "    5. Decision Tree\n",
    "    6. Neural Network\n",
    "    \n",
    "Based on the performance, we will choose the best model. "
   ]
  },
  {
   "cell_type": "code",
   "execution_count": 47,
   "metadata": {
    "scrolled": true
   },
   "outputs": [
    {
     "name": "stdout",
     "output_type": "stream",
     "text": [
      "Accuracy of Multnomial naive bayes(TF-IDF) : 96.61% (+/- 5.41%)\n",
      "Accuracy of Multnomial naive bayes(Count) : 97.05% (+/- 5.56%)\n"
     ]
    }
   ],
   "source": [
    "# Words as features using TF-IDF and training the model\n",
    "tfidfVectorizer = TfidfVectorizer(stop_words = 'english')\n",
    "train_features = tfidfVectorizer.fit_transform(train_data_X) # number of features - 1921\n",
    "countVectorizer = CountVectorizer(stop_words='english')\n",
    "train_features1 = countVectorizer.fit_transform(train_data_X) # number of features - 1921\n",
    "\n",
    "#1 Multinomial Naive Bayes\n",
    "mnbclassifier = MultinomialNB() \n",
    "scores = cross_val_score(mnbclassifier, train_features, train_data_Y, cv=10, scoring='accuracy')\n",
    "scores1 = cross_val_score(mnbclassifier, train_features1, train_data_Y, cv=10, scoring='accuracy')\n",
    "print(\"Accuracy of Multnomial naive bayes(TF-IDF) : %.2f%% (+/- %.2f%%)\" % (np.mean(scores*100),np.std(scores*100)))\n",
    "print(\"Accuracy of Multnomial naive bayes(Count) : %.2f%% (+/- %.2f%%)\" % (np.mean(scores1*100),np.std(scores1*100)))"
   ]
  },
  {
   "cell_type": "code",
   "execution_count": 49,
   "metadata": {},
   "outputs": [
    {
     "name": "stdout",
     "output_type": "stream",
     "text": [
      "Accuracy of Decision Tree (TF-IDF) : 96.02% (+/- 6.59%)\n",
      "Accuracy of Decision Tree (Count): 96.46% (+/- 6.16%)\n"
     ]
    }
   ],
   "source": [
    "DTclassifier = DecisionTreeClassifier(criterion = 'entropy', random_state = 0)\n",
    "scores = cross_val_score(DTclassifier, train_features, train_data_Y, cv=10, scoring='accuracy')\n",
    "scores1 = cross_val_score(DTclassifier, train_features1, train_data_Y, cv=10, scoring='accuracy')\n",
    "print(\"Accuracy of Decision Tree (TF-IDF) : %.2f%% (+/- %.2f%%)\" % (np.mean(scores*100),np.std(scores*100)))\n",
    "print(\"Accuracy of Decision Tree (Count): %.2f%% (+/- %.2f%%)\" % (np.mean(scores1*100),np.std(scores1*100)))"
   ]
  },
  {
   "cell_type": "code",
   "execution_count": 50,
   "metadata": {},
   "outputs": [
    {
     "name": "stdout",
     "output_type": "stream",
     "text": [
      "Accuracy of Support Vector Machine : 97.32% (+/- 4.13%)\n",
      "Accuracy of Support Vector Machine : 98.50% (+/- 2.33%)\n"
     ]
    }
   ],
   "source": [
    "SVCclassifier = SVC(kernel = 'linear', random_state = 0)\n",
    "scores = cross_val_score(SVCclassifier, train_features, train_data_Y, cv=10, scoring='accuracy')\n",
    "scores1 = cross_val_score(SVCclassifier, train_features1, train_data_Y, cv=10, scoring='accuracy')\n",
    "print(\"Accuracy of Support Vector Machine : %.2f%% (+/- %.2f%%)\" % (np.mean(scores*100),np.std(scores*100)))\n",
    "print(\"Accuracy of Support Vector Machine : %.2f%% (+/- %.2f%%)\" % (np.mean(scores1*100),np.std(scores1*100)))"
   ]
  },
  {
   "cell_type": "code",
   "execution_count": 56,
   "metadata": {},
   "outputs": [
    {
     "name": "stdout",
     "output_type": "stream",
     "text": [
      "Accuracy of KNN (TF-IDF) 95.27% (+/- 5.54%) for k = 45 \n",
      "Accuracy of KNN (Count) 95.49% (+/- 5.54%) for k = 7 \n"
     ]
    },
    {
     "data": {
      "text/plain": [
       "<matplotlib.legend.Legend at 0x7ff257d55ac8>"
      ]
     },
     "execution_count": 56,
     "metadata": {},
     "output_type": "execute_result"
    },
    {
     "data": {
      "image/png": "[encoded data removed]",
      "text/plain": [
       "<matplotlib.figure.Figure at 0x7ff257e7cb00>"
      ]
     },
     "metadata": {},
     "output_type": "display_data"
    }
   ],
   "source": [
    "#2 K Nearest Neighbors\n",
    "\"\"\" First we need to decide the value of k.\n",
    "    For this, we will calculate the cross validated score for each k\n",
    "    and search for the k with best results. \n",
    "\"\"\"\n",
    "k_range = range(1,51)\n",
    "k_scores = []\n",
    "k_std = []\n",
    "k_scores1 = []\n",
    "k_std1 = []\n",
    "\n",
    "for k in k_range:\n",
    "    # Run KNeighborsClassifier with k neighbours\n",
    "    knnclassifer = KNeighborsClassifier(n_neighbors=k)\n",
    "    # Obtain cross_val_score for KNeighborsClassifier with k neighbours\n",
    "    scores = cross_val_score(knnclassifer, train_features, train_data_Y, cv=10, scoring='accuracy')\n",
    "    scores1 = cross_val_score(knnclassifer, train_features1, train_data_Y, cv=10, scoring='accuracy')\n",
    "    # Append mean of scores for k neighbors to k_scores list\n",
    "    k_scores.append(np.mean(scores*100))\n",
    "    k_scores1.append(np.mean(scores1*100))\n",
    "    k_std.append(np.std(scores*100))\n",
    "    k_std1.append(np.std(scores1*100))\n",
    "\n",
    "# finding the k for which the score is maximum\n",
    "max_k = k_scores.index(max(k_scores))+1\n",
    "max_k1 = k_scores1.index(max(k_scores1))+1\n",
    "std = k_std[max_k-1]\n",
    "std1 = k_std1[max_k1-1]\n",
    "\n",
    "print(\"Accuracy of KNN (TF-IDF) %.2f%% (+/- %.2f%%) for k = %d \" % (max(k_scores),std,max_k))\n",
    "print(\"Accuracy of KNN (Count) %.2f%% (+/- %.2f%%) for k = %d \" % (max(k_scores1),std,max_k1))\n",
    "\n",
    "%matplotlib inline\n",
    "\n",
    "# plot the value of K for KNN (x-axis) versus the cross-validated accuracy (y-axis)\n",
    "# plt.plot(x_axis, y_axis)\n",
    "plt.plot(k_range, k_scores, label = 'Tf-Idf vectorizer')\n",
    "plt.xlabel('Value of K for KNN')\n",
    "plt.ylabel('Cross-validated accuracy')\n",
    "\n",
    "plt.plot(k_range, k_scores1, label = 'Countvectorizer')\n",
    "plt.xlabel('Value of K for KNN')\n",
    "plt.ylabel('Cross-validated accuracy')\n",
    "plt.legend(loc='lower right')"
   ]
  },
  {
   "cell_type": "markdown",
   "metadata": {},
   "source": [
    "We are looping through a range of values of k in order to find the best value for k. The graph above shows that varying the value of k after 40 doesnot lead to much improvement in the accuracy."
   ]
  },
  {
   "cell_type": "code",
   "execution_count": 52,
   "metadata": {},
   "outputs": [
    {
     "name": "stdout",
     "output_type": "stream",
     "text": [
      "Accuracy of Logistic Regression (Tf-Idf) : 97.21% (+/- 4.96%)\n",
      "Accuracy of Logistic Regression (Count) : 97.63% (+/- 4.21%)\n"
     ]
    }
   ],
   "source": [
    "#3 Logistic Regression\n",
    "lrclassifier = LogisticRegression()\n",
    "scores = cross_val_score(lrclassifier, train_features, train_data_Y, cv=10, scoring='accuracy')\n",
    "scores1 = cross_val_score(lrclassifier, train_features1, train_data_Y, cv=10, scoring='accuracy')\n",
    "print(\"Accuracy of Logistic Regression (Tf-Idf) : %.2f%% (+/- %.2f%%)\" % (np.mean(scores*100),np.std(scores*100)))\n",
    "print(\"Accuracy of Logistic Regression (Count) : %.2f%% (+/- %.2f%%)\" % (np.mean(scores1*100),np.std(scores1*100)))"
   ]
  },
  {
   "cell_type": "code",
   "execution_count": 57,
   "metadata": {},
   "outputs": [
    {
     "name": "stdout",
     "output_type": "stream",
     "text": [
      "Epoch 1/5\n",
      "5668/5668 [==============================] - 3s - loss: 0.1567 - acc: 0.9730     \n",
      "Epoch 2/5\n",
      "5668/5668 [==============================] - 3s - loss: 0.0117 - acc: 0.9977     \n",
      "Epoch 3/5\n",
      "5668/5668 [==============================] - 3s - loss: 0.0037 - acc: 0.9996     \n",
      "Epoch 4/5\n",
      "5668/5668 [==============================] - 4s - loss: 0.0018 - acc: 1.0000     \n",
      "Epoch 5/5\n",
      "5668/5668 [==============================] - 3s - loss: 0.0010 - acc: 1.0000      \n",
      "Fold 1 acc: 99.72%\n",
      "Epoch 1/5\n",
      "5669/5669 [==============================] - 4s - loss: 0.0551 - acc: 0.9806     \n",
      "Epoch 2/5\n",
      "5669/5669 [==============================] - 4s - loss: 0.0038 - acc: 0.9995     \n",
      "Epoch 3/5\n",
      "5669/5669 [==============================] - 4s - loss: 0.0015 - acc: 0.9998     \n",
      "Epoch 4/5\n",
      "5669/5669 [==============================] - 4s - loss: 0.0016 - acc: 0.9996     \n",
      "Epoch 5/5\n",
      "5669/5669 [==============================] - 4s - loss: 0.0014 - acc: 0.9996         \n",
      "Fold 2 acc: 99.22%\n",
      "Epoch 1/5\n",
      "5669/5669 [==============================] - 4s - loss: 0.0509 - acc: 0.9843     \n",
      "Epoch 2/5\n",
      "5669/5669 [==============================] - 4s - loss: 0.0024 - acc: 0.9996     \n",
      "Epoch 3/5\n",
      "5669/5669 [==============================] - 4s - loss: 0.0010 - acc: 1.0000     \n",
      "Epoch 4/5\n",
      "5669/5669 [==============================] - 4s - loss: 6.1677e-04 - acc: 1.0000     \n",
      "Epoch 5/5\n",
      "5669/5669 [==============================] - 3s - loss: 4.0465e-04 - acc: 1.0000     \n",
      "Fold 3 acc: 99.29%\n",
      "Epoch 1/5\n",
      "5669/5669 [==============================] - 4s - loss: 0.0556 - acc: 0.9832     \n",
      "Epoch 2/5\n",
      "5669/5669 [==============================] - 4s - loss: 0.0036 - acc: 0.9995     \n",
      "Epoch 3/5\n",
      "5669/5669 [==============================] - 3s - loss: 0.0019 - acc: 0.9995     \n",
      "Epoch 4/5\n",
      "5669/5669 [==============================] - 4s - loss: 0.0014 - acc: 0.9996     \n",
      "Epoch 5/5\n",
      "5669/5669 [==============================] - 3s - loss: 9.0697e-04 - acc: 0.9998     \n",
      "Fold 4 acc: 99.22%\n",
      "Epoch 1/5\n",
      "5669/5669 [==============================] - 3s - loss: 0.0561 - acc: 0.9808     \n",
      "Epoch 2/5\n",
      "5669/5669 [==============================] - 4s - loss: 0.0033 - acc: 0.9996     \n",
      "Epoch 3/5\n",
      "5669/5669 [==============================] - 4s - loss: 0.0017 - acc: 0.9998     \n",
      "Epoch 4/5\n",
      "5669/5669 [==============================] - 3s - loss: 0.0014 - acc: 0.9996     \n",
      "Epoch 5/5\n",
      "5669/5669 [==============================] - 3s - loss: 9.8293e-04 - acc: 0.9998     \n",
      "Fold 5 acc: 99.58%\n",
      "Accuracy of Neural Network with 1 hidden layer of 100 nodes 99.41% \n"
     ]
    }
   ],
   "source": [
    "#4 Neural Network\n",
    "# define a custom optimizer with learning rate 0.001\n",
    "custom_adam = keras.optimizers.Adam(lr=0.001, beta_1=0.9, beta_2=0.999, epsilon=1e-8)\n",
    "# define 5-fold cross validation test harness\n",
    "kfold = StratifiedKFold(n_splits=5, shuffle=True, random_state=7)\n",
    "cvscores = []\n",
    "counter = 0\n",
    "for train, test in kfold.split(train_features, train_data_Y): \n",
    "    counter+=1\n",
    "    nnclassifier = Sequential()\n",
    "    nnclassifier.add(Dense(100, activation='relu', \n",
    "                input_dim=len(tfidfVectorizer.get_feature_names()))) # hidden layer with 100 nodes\n",
    "    nnclassifier.add(Dense(1, activation='sigmoid'))\n",
    "    nnclassifier.compile(optimizer=custom_adam,\n",
    "              loss='binary_crossentropy',\n",
    "              metrics=['accuracy'])\n",
    "\n",
    "    nnclassifier.fit(train_features1.toarray()[train],np.asarray(train_data_Y)[train], epochs=5, batch_size=13)\n",
    "    # evaluate the model\n",
    "    scores = nnclassifier.evaluate(train_features1.toarray()[test], np.asarray(train_data_Y)[test], verbose=0)\n",
    "    print(\"Fold %.d %s: %.2f%%\" % (counter,nnclassifier.metrics_names[1], scores[1]*100))\n",
    "    cvscores.append(scores[1] * 100)\n",
    "    \n",
    "print(\"Accuracy of Neural Network with 1 hidden layer of 100 nodes %.2f%% \" % \n",
    "      (np.mean(cvscores)))"
   ]
  },
  {
   "cell_type": "markdown",
   "metadata": {},
   "source": [
    "Now as we see from the above comparison of performance of various models that the neural network with 1 hidden layer of 100 nodes outperformed the other three models."
   ]
  },
  {
   "cell_type": "markdown",
   "metadata": {},
   "source": [
    "# Training using the best model (Neural Network)"
   ]
  },
  {
   "cell_type": "code",
   "execution_count": 13,
   "metadata": {},
   "outputs": [
    {
     "name": "stdout",
     "output_type": "stream",
     "text": [
      "Epoch 1/5\n",
      "7086/7086 [==============================] - 3s - loss: 0.0598 - acc: 0.9802     \n",
      "Epoch 2/5\n",
      "7086/7086 [==============================] - 3s - loss: 0.0036 - acc: 0.9997     \n",
      "Epoch 3/5\n",
      "7086/7086 [==============================] - 3s - loss: 0.0019 - acc: 0.9997     \n",
      "Epoch 4/5\n",
      "7086/7086 [==============================] - 2s - loss: 0.0013 - acc: 0.9997     \n",
      "Epoch 5/5\n",
      "7086/7086 [==============================] - 3s - loss: 8.4678e-04 - acc: 0.9999     \n"
     ]
    },
    {
     "data": {
      "text/plain": [
       "<keras.callbacks.History at 0x7fa2ef884358>"
      ]
     },
     "execution_count": 13,
     "metadata": {},
     "output_type": "execute_result"
    }
   ],
   "source": [
    "nnclassifier = Sequential()\n",
    "nnclassifier.add(Dense(100, activation='relu', \n",
    "                input_dim=len(tfidfVectorizer.get_feature_names()))) # hidden layer with 100 nodes\n",
    "nnclassifier.add(Dense(1, activation='sigmoid'))\n",
    "nnclassifier.compile(optimizer=custom_adam,\n",
    "              loss='binary_crossentropy',\n",
    "              metrics=['accuracy'])\n",
    "nnclassifier.fit(train_features.toarray(),np.asarray(train_data_Y), epochs=5, batch_size=13)"
   ]
  },
  {
   "cell_type": "markdown",
   "metadata": {},
   "source": [
    "# Predicting the output of the test data"
   ]
  },
  {
   "cell_type": "code",
   "execution_count": 14,
   "metadata": {
    "collapsed": true
   },
   "outputs": [],
   "source": [
    "# Vectorizing the test data set using TF IDF\n",
    "test_data_features = tfidfVectorizer.transform(test_data_X)\n",
    "predictions = nnclassifier.predict(test_data_features.toarray())\n",
    "# Now save the predictions to a file\n",
    "with open('predictions.txt','w') as file:\n",
    "    file.write('Predictions of test file using neural network - \\n')\n",
    "    for i in predictions:\n",
    "        if(i>0.5):\n",
    "            i=1\n",
    "        else: \n",
    "            i=0\n",
    "        file.write(\"%d\" % i)\n",
    "        file.write('\\n')"
   ]
  },
  {
   "cell_type": "markdown",
   "metadata": {},
   "source": [
    "# Saving the model"
   ]
  },
  {
   "cell_type": "code",
   "execution_count": 10,
   "metadata": {
    "collapsed": true
   },
   "outputs": [],
   "source": [
    "nnclassifier.save('model.h5')"
   ]
  }
 ],
 "metadata": {
  "kernelspec": {
   "display_name": "Python 3",
   "language": "python",
   "name": "python3"
  },
  "language_info": {
   "codemirror_mode": {
    "name": "ipython",
    "version": 3
   },
   "file_extension": ".py",
   "mimetype": "text/x-python",
   "name": "python",
   "nbconvert_exporter": "python",
   "pygments_lexer": "ipython3",
   "version": "3.5.2"
  }
 },
 "nbformat": 4,
 "nbformat_minor": 2
}
